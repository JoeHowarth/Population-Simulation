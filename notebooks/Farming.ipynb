{
 "cells": [
  {
   "cell_type": "code",
   "execution_count": 1,
   "metadata": {},
   "outputs": [],
   "source": [
    "%matplotlib inline\n",
    "import numpy as np\n",
    "import matplotlib.pyplot as plt\n",
    "import random"
   ]
  },
  {
   "cell_type": "code",
   "execution_count": 2,
   "metadata": {},
   "outputs": [],
   "source": [
    "## Constants\n",
    "# Bushels per acre\n",
    "bpaDL = 4 \n",
    "bpaDH = 6\n",
    "bpaML = 8\n",
    "bpaMH = 12\n",
    "\n",
    "seedRatioD = 1/2\n",
    "seedRatioM = 1/4\n",
    "\n",
    "## 300-500 kg per hectare 2:1 seeds, darkages, --> 120-200 kg per acre\n",
    "## 400-666 \"\" 3:1\n",
    "## 533-890 \"\" 4:1 --> 210-355 kg per acre\n",
    "## 26, 29, 30-33kg per bushel? \n",
    "####  30 kg per bushel ####\n",
    "\n",
    "# Bushels per person\n",
    "bppH = 24\n",
    "bppL = 14\n",
    "\n",
    "## 1.2 - 4.8 million kg of grain for 7,700 adults + 940 juviniles --> 8,650 total (??)\n",
    "# 4000 - 14500 hectares for grain + legumes\n",
    "# 4500 - 15000 hectares for animal pastureland + hay \n",
    "\n",
    "## high production 600 kg per hectare and high consumption\n",
    "# 9000 hectares for grain\n",
    "# 7000 hectares for pasture + hay\n",
    "\n",
    "## above per person low/low, high/high ==> \n",
    "#  0.47 - 1.05 hectares of grain per person\n",
    "#  0.53 - 0.82 hectares of pasture + hay per person\n",
    "#  1.0  - 1.87 hectares per person total => 2.5 - 4.7 acres per person\n",
    "\n",
    "# with 3-field rotation\n",
    "# 7.5 - 14 acres per person \n",
    "\n"
   ]
  },
  {
   "cell_type": "code",
   "execution_count": 4,
   "metadata": {},
   "outputs": [
    {
     "data": {
      "text/plain": [
       "29.666666666666668"
      ]
     },
     "execution_count": 4,
     "metadata": {},
     "output_type": "execute_result"
    }
   ],
   "source": [
    "### Estimated sim values\n",
    "## Basic Unit => Bushel\n",
    "## Dietary need\n",
    "#  24 Bushels Men       720 kg\n",
    "#  20 Bushels Women     600 kg\n",
    "#  14 Bushels Children  420 kg\n",
    "\n",
    "## Land Production  \n",
    "## 2:1, Bad / Good soil, average harvest\n",
    "#  10   - 13 -  16 Bushels/Hectare 2:1\n",
    "#  13.5 - 17.5 -  22                 3:1\n",
    "#  17   - 23.5 - 30                 4:1\n",
    "\n",
    "# 1.0 fertility value\n",
    "# 13 Bushels 2:1\n",
    "# "
   ]
  },
  {
   "cell_type": "code",
   "execution_count": null,
   "metadata": {},
   "outputs": [],
   "source": []
  }
 ],
 "metadata": {
  "kernelspec": {
   "display_name": "Python 3",
   "language": "python",
   "name": "python3"
  },
  "language_info": {
   "codemirror_mode": {
    "name": "ipython",
    "version": 3
   },
   "file_extension": ".py",
   "mimetype": "text/x-python",
   "name": "python",
   "nbconvert_exporter": "python",
   "pygments_lexer": "ipython3",
   "version": "3.6.5"
  }
 },
 "nbformat": 4,
 "nbformat_minor": 2
}
