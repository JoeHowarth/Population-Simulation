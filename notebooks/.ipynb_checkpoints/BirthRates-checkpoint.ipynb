{
 "cells": [
  {
   "cell_type": "code",
   "execution_count": 1,
   "metadata": {},
   "outputs": [],
   "source": [
    "%matplotlib inline\n",
    "import matplotlib.pyplot as plt\n",
    "import numpy as np\n",
    "import random\n",
    "import math"
   ]
  },
  {
   "cell_type": "code",
   "execution_count": 7,
   "metadata": {},
   "outputs": [],
   "source": [
    "def lerp(a,b,x):\n",
    "    return a + (b-a) * x\n",
    "\n",
    "def expected_value(arr):\n",
    "    n = sum(arr)\n",
    "    total = 0\n",
    "    for i,x in enumerate(arr):\n",
    "        total += x * i\n",
    "    return total/n\n",
    "        \n",
    "\n",
    "def deathsfn(probs, pop):\n",
    "    '''\n",
    "    pop: population >1 y.o.\n",
    "    probs: list of probability of death at 5 year age intervals\n",
    "    '''\n",
    "    pops = [pop]\n",
    "    deaths = []\n",
    "    ps = []\n",
    "    for y in range(80):\n",
    "        y1 = y // 5\n",
    "        y2 = y // 5 + 1\n",
    "        x = (y % 5) / 5\n",
    "        p = lerp(probs[y1], probs[y2], x)\n",
    "        ps.append(p)\n",
    "        pops.append( (1-p) * pops[-1] )\n",
    "        deaths.append( p * pops[-1])\n",
    "    return pops,deaths,ps\n",
    "        "
   ]
  },
  {
   "cell_type": "code",
   "execution_count": 8,
   "metadata": {},
   "outputs": [
    {
     "name": "stdout",
     "output_type": "stream",
     "text": [
      "[1000, 627, 513, 443, 411, 398, 388, 379, 366, 344, 316, 280, 235, 184, 124, 58, 11]\n"
     ]
    },
    {
     "data": {
      "text/plain": [
       "443"
      ]
     },
     "execution_count": 8,
     "metadata": {},
     "output_type": "execute_result"
    },
    {
     "data": {
      "image/png": "[encoded data removed]",
      "text/plain": [
       "<Figure size 432x288 with 1 Axes>"
      ]
     },
     "metadata": {},
     "output_type": "display_data"
    }
   ],
   "source": [
    "pops, deaths,ps = deathsfn([.12, 0.042, 0.035, 0.02]+ [0.007, 0.005, 0.005, 0.005, 0.01, 0.015, 0.02, 0.03, \n",
    "                                                    0.04, 0.06, 0.1, 0.2, 0.4, 0.4] + [0.04] * 40, 1000)\n",
    "pops = [int(x) for x in pops]\n",
    "plt.plot(pops)\n",
    "print(pops[0::5])\n",
    "pops[15]"
   ]
  },
  {
   "cell_type": "code",
   "execution_count": 9,
   "metadata": {},
   "outputs": [
    {
     "data": {
      "text/plain": [
       "60.104172558843835"
      ]
     },
     "execution_count": 9,
     "metadata": {},
     "output_type": "execute_result"
    },
    {
     "data": {
      "image/png": "[encoded data removed]",
      "text/plain": [
       "<Figure size 432x288 with 1 Axes>"
      ]
     },
     "metadata": {},
     "output_type": "display_data"
    }
   ],
   "source": [
    "plt.plot(deaths)\n",
    "x = 30\n",
    "expected_value(deaths[x:]) + x"
   ]
  },
  {
   "cell_type": "code",
   "execution_count": null,
   "metadata": {},
   "outputs": [],
   "source": []
  },
  {
   "cell_type": "code",
   "execution_count": null,
   "metadata": {},
   "outputs": [],
   "source": []
  },
  {
   "cell_type": "code",
   "execution_count": null,
   "metadata": {},
   "outputs": [],
   "source": []
  },
  {
   "cell_type": "code",
   "execution_count": null,
   "metadata": {},
   "outputs": [],
   "source": []
  },
  {
   "cell_type": "code",
   "execution_count": null,
   "metadata": {},
   "outputs": [],
   "source": []
  },
  {
   "cell_type": "code",
   "execution_count": null,
   "metadata": {},
   "outputs": [],
   "source": []
  },
  {
   "cell_type": "code",
   "execution_count": null,
   "metadata": {},
   "outputs": [],
   "source": []
  },
  {
   "cell_type": "code",
   "execution_count": null,
   "metadata": {},
   "outputs": [],
   "source": []
  }
 ],
 "metadata": {
  "kernelspec": {
   "display_name": "Python 3",
   "language": "python",
   "name": "python3"
  },
  "language_info": {
   "codemirror_mode": {
    "name": "ipython",
    "version": 3
   },
   "file_extension": ".py",
   "mimetype": "text/x-python",
   "name": "python",
   "nbconvert_exporter": "python",
   "pygments_lexer": "ipython3",
   "version": "3.6.5"
  }
 },
 "nbformat": 4,
 "nbformat_minor": 2
}
